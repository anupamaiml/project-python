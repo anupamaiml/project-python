{
 "cells": [
  {
   "cell_type": "code",
   "execution_count": 1,
   "metadata": {},
   "outputs": [],
   "source": [
    "import math"
   ]
  },
  {
   "cell_type": "code",
   "execution_count": 2,
   "metadata": {},
   "outputs": [],
   "source": [
    "x = 6.5\n",
    "y = 3"
   ]
  },
  {
   "cell_type": "code",
   "execution_count": 3,
   "metadata": {},
   "outputs": [
    {
     "data": {
      "text/plain": [
       "1.7320508075688772"
      ]
     },
     "execution_count": 3,
     "metadata": {},
     "output_type": "execute_result"
    }
   ],
   "source": [
    "math.sqrt(3)"
   ]
  },
  {
   "cell_type": "code",
   "execution_count": 4,
   "metadata": {},
   "outputs": [
    {
     "data": {
      "text/plain": [
       "274.625"
      ]
     },
     "execution_count": 4,
     "metadata": {},
     "output_type": "execute_result"
    }
   ],
   "source": [
    "math.pow(x,y)"
   ]
  },
  {
   "cell_type": "code",
   "execution_count": 5,
   "metadata": {},
   "outputs": [
    {
     "data": {
      "text/plain": [
       "3.141592653589793"
      ]
     },
     "execution_count": 5,
     "metadata": {},
     "output_type": "execute_result"
    }
   ],
   "source": [
    "math.pi"
   ]
  },
  {
   "cell_type": "code",
   "execution_count": 6,
   "metadata": {},
   "outputs": [
    {
     "data": {
      "text/plain": [
       "2.718281828459045"
      ]
     },
     "execution_count": 6,
     "metadata": {},
     "output_type": "execute_result"
    }
   ],
   "source": [
    "math.e"
   ]
  },
  {
   "cell_type": "code",
   "execution_count": 7,
   "metadata": {},
   "outputs": [
    {
     "data": {
      "text/plain": [
       "['__doc__',\n",
       " '__loader__',\n",
       " '__name__',\n",
       " '__package__',\n",
       " '__spec__',\n",
       " 'acos',\n",
       " 'acosh',\n",
       " 'asin',\n",
       " 'asinh',\n",
       " 'atan',\n",
       " 'atan2',\n",
       " 'atanh',\n",
       " 'ceil',\n",
       " 'copysign',\n",
       " 'cos',\n",
       " 'cosh',\n",
       " 'degrees',\n",
       " 'e',\n",
       " 'erf',\n",
       " 'erfc',\n",
       " 'exp',\n",
       " 'expm1',\n",
       " 'fabs',\n",
       " 'factorial',\n",
       " 'floor',\n",
       " 'fmod',\n",
       " 'frexp',\n",
       " 'fsum',\n",
       " 'gamma',\n",
       " 'gcd',\n",
       " 'hypot',\n",
       " 'inf',\n",
       " 'isclose',\n",
       " 'isfinite',\n",
       " 'isinf',\n",
       " 'isnan',\n",
       " 'ldexp',\n",
       " 'lgamma',\n",
       " 'log',\n",
       " 'log10',\n",
       " 'log1p',\n",
       " 'log2',\n",
       " 'modf',\n",
       " 'nan',\n",
       " 'pi',\n",
       " 'pow',\n",
       " 'radians',\n",
       " 'remainder',\n",
       " 'sin',\n",
       " 'sinh',\n",
       " 'sqrt',\n",
       " 'tan',\n",
       " 'tanh',\n",
       " 'tau',\n",
       " 'trunc']"
      ]
     },
     "execution_count": 7,
     "metadata": {},
     "output_type": "execute_result"
    }
   ],
   "source": [
    "dir(math)"
   ]
  },
  {
   "cell_type": "code",
   "execution_count": 1,
   "metadata": {},
   "outputs": [],
   "source": [
    "import random"
   ]
  },
  {
   "cell_type": "code",
   "execution_count": 2,
   "metadata": {},
   "outputs": [],
   "source": [
    "x = random.randint(1,6)"
   ]
  },
  {
   "cell_type": "code",
   "execution_count": 2,
   "metadata": {},
   "outputs": [
    {
     "name": "stdout",
     "output_type": "stream",
     "text": [
      "___________\n",
      "|          |\n",
      "|O    O   O|\n",
      "|          |\n",
      "___________\n",
      "Press y to roll againy\n",
      "___________\n",
      "|O       O|\n",
      "|         |\n",
      "|O       O|\n",
      "___________\n",
      "Press y to roll againy\n",
      "___________\n",
      "|O        O|\n",
      "|    O     |\n",
      "|O        O|\n",
      "___________\n",
      "Press y to roll againjaved\n"
     ]
    }
   ],
   "source": [
    "import random\n",
    "\n",
    "\n",
    "t = 'y'\n",
    "\n",
    "#for y in range(x):\n",
    "while t == 'y':\n",
    "    x = random.randint(1,6)\n",
    "    #x = x+i\n",
    "    if x == 1:\n",
    "        print(\"___________\")\n",
    "        print(\"|          |\")\n",
    "        print(\"|    O     |\")\n",
    "        print(\"|          |\")\n",
    "        print(\"___________\")\n",
    "\n",
    "    if x == 2:\n",
    "        print(\"___________\")\n",
    "        print(\"|          |\")\n",
    "        print(\"|O        O|\")\n",
    "        print(\"|          |\")\n",
    "        print(\"___________\")\n",
    "\n",
    "    if x == 3:\n",
    "        print(\"___________\")\n",
    "        print(\"|          |\")\n",
    "        print(\"|O    O   O|\")\n",
    "        print(\"|          |\")\n",
    "        print(\"___________\") \n",
    "\n",
    "    if x == 4:\n",
    "        print(\"___________\")\n",
    "        print(\"|O       O|\")\n",
    "        print(\"|         |\")\n",
    "        print(\"|O       O|\")\n",
    "        print(\"___________\")\n",
    "\n",
    "    if x == 5:\n",
    "        print(\"___________\")\n",
    "        print(\"|O        O|\")\n",
    "        print(\"|    O     |\")\n",
    "        print(\"|O        O|\")\n",
    "        print(\"___________\")\n",
    "\n",
    "    if x == 6:\n",
    "        print(\"___________\")\n",
    "        print(\"|O        O|\")\n",
    "        print(\"|O        O|\")\n",
    "        print(\"|O        O|\")\n",
    "        print(\"___________\")\n",
    "\n",
    "    t = input(\"Press y to roll again\")"
   ]
  },
  {
   "cell_type": "code",
   "execution_count": null,
   "metadata": {},
   "outputs": [],
   "source": [
    "l = ['javed', 'madam', 'ada', 'gaurav', 'anupam', 'radar', 'malyalam']\n",
    "res = ['madam', 'ada', 'radar', 'malyalam']"
   ]
  },
  {
   "cell_type": "code",
   "execution_count": null,
   "metadata": {},
   "outputs": [],
   "source": [
    "s = 'shivam'\n",
    "s == s[::-1]"
   ]
  },
  {
   "cell_type": "code",
   "execution_count": 3,
   "metadata": {},
   "outputs": [],
   "source": [
    "def palindrome_list(l):\n",
    "    res = []\n",
    "    for i in l:\n",
    "        j = i.lower()\n",
    "        if (j == j[::-1]):\n",
    "            res.append(i)\n",
    "    return res\n",
    "    "
   ]
  },
  {
   "cell_type": "code",
   "execution_count": 4,
   "metadata": {},
   "outputs": [],
   "source": [
    "l = ['javed', 'madam', 'ada', 'gaurav', 'anupam', 'radar', 'malyalam']"
   ]
  },
  {
   "cell_type": "code",
   "execution_count": 7,
   "metadata": {},
   "outputs": [
    {
     "data": {
      "text/plain": [
       "['madam', 'ada', 'radar']"
      ]
     },
     "execution_count": 7,
     "metadata": {},
     "output_type": "execute_result"
    }
   ],
   "source": [
    "palindrome_list(l)"
   ]
  },
  {
   "cell_type": "code",
   "execution_count": null,
   "metadata": {},
   "outputs": [],
   "source": []
  }
 ],
 "metadata": {
  "kernelspec": {
   "display_name": "Python 3",
   "language": "python",
   "name": "python3"
  },
  "language_info": {
   "codemirror_mode": {
    "name": "ipython",
    "version": 3
   },
   "file_extension": ".py",
   "mimetype": "text/x-python",
   "name": "python",
   "nbconvert_exporter": "python",
   "pygments_lexer": "ipython3",
   "version": "3.7.6"
  }
 },
 "nbformat": 4,
 "nbformat_minor": 2
}
